{
 "cells": [
  {
   "cell_type": "markdown",
   "metadata": {},
   "source": [
    "# NLP Workshop - Getting Started\n",
    "\n",
    "Welcome to the NLP Workshop! This notebook will guide you through basic NLP concepts and techniques.\n",
    "\n",
    "## Workshop Overview:\n",
    "- **Text Processing** with NLTK\n",
    "- **Speech Recognition** with Vosk\n",
    "- **Basic NLP Tasks** (Tokenization, POS Tagging, Named Entity Recognition)\n",
    "- **Sentiment Analysis** with VADER\n",
    "- **Text Classification** with Scikit-learn\n",
    "\n",
    "## Prerequisites:\n",
    "- Run `setup_nltk.py` to download required data\n",
    "- Activate virtual environment: `source nlp_env/bin/activate`\n",
    "- Install dependencies: `pip install -r requirements.txt`"
   ]
  },
  {
   "cell_type": "code",
   "execution_count": 13,
   "metadata": {},
   "outputs": [
    {
     "name": "stdout",
     "output_type": "stream",
     "text": [
      "Libraries imported successfully!\n",
      "NLTK version: 3.9.1\n",
      "NumPy version: 2.1.3\n"
     ]
    }
   ],
   "source": [
    "# Import necessary libraries\n",
    "import nltk\n",
    "from nltk.tokenize import word_tokenize, sent_tokenize\n",
    "from nltk.corpus import stopwords\n",
    "from nltk.stem import WordNetLemmatizer, PorterStemmer\n",
    "from nltk.sentiment import SentimentIntensityAnalyzer\n",
    "import numpy as np\n",
    "import pandas as pd\n",
    "import matplotlib.pyplot as plt\n",
    "import seaborn as sns\n",
    "\n",
    "# Set style for plots\n",
    "plt.style.use('seaborn-v0_8')\n",
    "sns.set_palette(\"husl\")\n",
    "\n",
    "print(\"Libraries imported successfully!\")\n",
    "print(f\"NLTK version: {nltk.__version__}\")\n",
    "print(f\"NumPy version: {np.__version__}\")"
   ]
  },
  {
   "cell_type": "markdown",
   "metadata": {},
   "source": [
    "## 1. Basic Text Processing\n",
    "\n",
    "Let's start with basic text processing techniques using NLTK."
   ]
  },
  {
   "cell_type": "code",
   "execution_count": 14,
   "metadata": {},
   "outputs": [
    {
     "name": "stdout",
     "output_type": "stream",
     "text": [
      "Original Text:\n",
      "Natural Language Processing (NLP) is a subfield of artificial intelligence that focuses on the interaction between computers and humans through natural language. The ultimate goal of NLP is to read, decipher, understand, and make sense of human language in a manner that is valuable.\n",
      "\n",
      "==================================================\n",
      "\n",
      "Number of sentences: 2\n",
      "Sentence 1: Natural Language Processing (NLP) is a subfield of artificial intelligence that focuses on the interaction between computers and humans through natural language.\n",
      "Sentence 2: The ultimate goal of NLP is to read, decipher, understand, and make sense of human language in a manner that is valuable.\n",
      "\n",
      "==================================================\n",
      "\n",
      "Number of words: 51\n",
      "First 20 words: ['Natural', 'Language', 'Processing', '(', 'NLP', ')', 'is', 'a', 'subfield', 'of', 'artificial', 'intelligence', 'that', 'focuses', 'on', 'the', 'interaction', 'between', 'computers', 'and']\n"
     ]
    }
   ],
   "source": [
    "# Sample text for processing\n",
    "sample_text = \"\"\"\n",
    "Natural Language Processing (NLP) is a subfield of artificial intelligence that focuses on the interaction between computers and humans through natural language. The ultimate goal of NLP is to read, decipher, understand, and make sense of human language in a manner that is valuable.\n",
    "\"\"\"\n",
    "\n",
    "print(\"Original Text:\")\n",
    "print(sample_text.strip())\n",
    "print(\"\\n\" + \"=\"*50 + \"\\n\")\n",
    "\n",
    "# Sentence Tokenization\n",
    "sentences = sent_tokenize(sample_text.strip())\n",
    "print(f\"Number of sentences: {len(sentences)}\")\n",
    "for i, sentence in enumerate(sentences, 1):\n",
    "    print(f\"Sentence {i}: {sentence}\")\n",
    "\n",
    "print(\"\\n\" + \"=\"*50 + \"\\n\")\n",
    "\n",
    "# Word Tokenization\n",
    "words = word_tokenize(sample_text.strip())\n",
    "print(f\"Number of words: {len(words)}\")\n",
    "print(f\"First 20 words: {words[:20]}\")"
   ]
  },
  {
   "cell_type": "markdown",
   "metadata": {},
   "source": [
    "## 2. Stop Words Removal\n",
    "\n",
    "Stop words are common words that don't add much meaning to the text (e.g., 'the', 'a', 'an', 'in')."
   ]
  },
  {
   "cell_type": "code",
   "execution_count": 15,
   "metadata": {},
   "outputs": [
    {
     "name": "stdout",
     "output_type": "stream",
     "text": [
      "Number of stop words: 198\n",
      "Sample stop words: ['why', \"wouldn't\", 'yourselves', 'are', 'i', \"mightn't\", 'didn', 'some', 'other', \"we'll\", 'in', \"he'll\", 'whom', 'if', 'its', 's', \"she'd\", 'with', 'yourself', 'where']\n",
      "\n",
      "Original word count: 51\n",
      "Filtered word count: 25\n",
      "Filtered words: ['Natural', 'Language', 'Processing', 'NLP', 'subfield', 'artificial', 'intelligence', 'focuses', 'interaction', 'computers', 'humans', 'natural', 'language', 'ultimate', 'goal', 'NLP', 'read', 'decipher', 'understand', 'make']\n"
     ]
    }
   ],
   "source": [
    "# Get English stop words\n",
    "stop_words = set(stopwords.words('english'))\n",
    "print(f\"Number of stop words: {len(stop_words)}\")\n",
    "print(f\"Sample stop words: {list(stop_words)[:20]}\")\n",
    "\n",
    "# Remove stop words from our text\n",
    "filtered_words = [word for word in words if word.lower() not in stop_words and word.isalnum()]\n",
    "print(f\"\\nOriginal word count: {len(words)}\")\n",
    "print(f\"Filtered word count: {len(filtered_words)}\")\n",
    "print(f\"Filtered words: {filtered_words[:20]}\")"
   ]
  },
  {
   "cell_type": "markdown",
   "metadata": {},
   "source": [
    "## 3. Stemming and Lemmatization\n",
    "\n",
    "Stemming reduces words to their root form, while lemmatization considers the context and converts words to their base form."
   ]
  },
  {
   "cell_type": "code",
   "execution_count": 16,
   "metadata": {},
   "outputs": [
    {
     "name": "stdout",
     "output_type": "stream",
     "text": [
      "Word\t\tStemmed\t\tLemmatized\n",
      "----------------------------------------\n",
      "running\t\trun\t\trunning\n",
      "flies\t\tfli\t\tfly\n",
      "cats\t\tcat\t\tcat\n",
      "trouble\t\ttroubl\t\ttrouble\n",
      "troubling\t\ttroubl\t\ttroubling\n",
      "troubled\t\ttroubl\t\ttroubled\n",
      "having\t\thave\t\thaving\n",
      "had\t\thad\t\thad\n",
      "was\t\twa\t\twa\n"
     ]
    }
   ],
   "source": [
    "# Initialize stemmer and lemmatizer\n",
    "stemmer = PorterStemmer()\n",
    "lemmatizer = WordNetLemmatizer()\n",
    "\n",
    "# Sample words for demonstration\n",
    "sample_words = ['running', 'flies', 'cats', 'trouble', 'troubling', 'troubled', 'having', 'had', 'was']\n",
    "\n",
    "print(\"Word\\t\\tStemmed\\t\\tLemmatized\")\n",
    "print(\"-\" * 40)\n",
    "for word in sample_words:\n",
    "    stemmed = stemmer.stem(word)\n",
    "    lemmatized = lemmatizer.lemmatize(word)\n",
    "    print(f\"{word}\\t\\t{stemmed}\\t\\t{lemmatized}\")"
   ]
  },
  {
   "cell_type": "markdown",
   "metadata": {},
   "source": [
    "## 4. Part-of-Speech (POS) Tagging\n",
    "\n",
    "POS tagging identifies the grammatical group of each word (noun, verb, adjective, etc.)."
   ]
  },
  {
   "cell_type": "code",
   "execution_count": 17,
   "metadata": {},
   "outputs": [
    {
     "name": "stdout",
     "output_type": "stream",
     "text": [
      "Word\t\tPOS Tag\t\tDescription\n",
      "----------------------------------------\n",
      "JJ: adjective or numeral, ordinal\n",
      "    third ill-mannered pre-war regrettable oiled calamitous first separable\n",
      "    ectoplasmic battery-powered participatory fourth still-to-be-named\n",
      "    multilingual multi-disciplinary ...\n",
      "Natural\t\tJJ\t\t\tNone\n",
      "NNP: noun, proper, singular\n",
      "    Motown Venneboerger Czestochwa Ranzer Conchita Trumplane Christos\n",
      "    Oceanside Escobar Kreisler Sawyer Cougar Yvette Ervin ODI Darryl CTCA\n",
      "    Shannon A.K.C. Meltex Liverpool ...\n",
      "Language\t\tNNP\t\t\tNone\n",
      "NNP: noun, proper, singular\n",
      "    Motown Venneboerger Czestochwa Ranzer Conchita Trumplane Christos\n",
      "    Oceanside Escobar Kreisler Sawyer Cougar Yvette Ervin ODI Darryl CTCA\n",
      "    Shannon A.K.C. Meltex Liverpool ...\n",
      "Processing\t\tNNP\t\t\tNone\n",
      "(: opening parenthesis\n",
      "    ( [ {\n",
      "(\t\t(\t\t\tNone\n",
      "NNP: noun, proper, singular\n",
      "    Motown Venneboerger Czestochwa Ranzer Conchita Trumplane Christos\n",
      "    Oceanside Escobar Kreisler Sawyer Cougar Yvette Ervin ODI Darryl CTCA\n",
      "    Shannon A.K.C. Meltex Liverpool ...\n",
      "NLP\t\tNNP\t\t\tNone\n",
      "): closing parenthesis\n",
      "    ) ] }\n",
      ")\t\t)\t\t\tNone\n",
      "VBZ: verb, present tense, 3rd person singular\n",
      "    bases reconstructs marks mixes displeases seals carps weaves snatches\n",
      "    slumps stretches authorizes smolders pictures emerges stockpiles\n",
      "    seduces fizzes uses bolsters slaps speaks pleads ...\n",
      "is\t\tVBZ\t\t\tNone\n",
      "DT: determiner\n",
      "    all an another any both del each either every half la many much nary\n",
      "    neither no some such that the them these this those\n",
      "a\t\tDT\t\t\tNone\n",
      "NN: noun, common, singular or mass\n",
      "    common-carrier cabbage knuckle-duster Casino afghan shed thermostat\n",
      "    investment slide humour falloff slick wind hyena override subhumanity\n",
      "    machinist ...\n",
      "subfield\t\tNN\t\t\tNone\n",
      "IN: preposition or conjunction, subordinating\n",
      "    astride among uppon whether out inside pro despite on by throughout\n",
      "    below within for towards near behind atop around if like until below\n",
      "    next into if beside ...\n",
      "of\t\tIN\t\t\tNone\n",
      "JJ: adjective or numeral, ordinal\n",
      "    third ill-mannered pre-war regrettable oiled calamitous first separable\n",
      "    ectoplasmic battery-powered participatory fourth still-to-be-named\n",
      "    multilingual multi-disciplinary ...\n",
      "artificial\t\tJJ\t\t\tNone\n",
      "NN: noun, common, singular or mass\n",
      "    common-carrier cabbage knuckle-duster Casino afghan shed thermostat\n",
      "    investment slide humour falloff slick wind hyena override subhumanity\n",
      "    machinist ...\n",
      "intelligence\t\tNN\t\t\tNone\n",
      "WDT: WH-determiner\n",
      "    that what whatever which whichever\n",
      "that\t\tWDT\t\t\tNone\n",
      "VBZ: verb, present tense, 3rd person singular\n",
      "    bases reconstructs marks mixes displeases seals carps weaves snatches\n",
      "    slumps stretches authorizes smolders pictures emerges stockpiles\n",
      "    seduces fizzes uses bolsters slaps speaks pleads ...\n",
      "focuses\t\tVBZ\t\t\tNone\n",
      "IN: preposition or conjunction, subordinating\n",
      "    astride among uppon whether out inside pro despite on by throughout\n",
      "    below within for towards near behind atop around if like until below\n",
      "    next into if beside ...\n",
      "on\t\tIN\t\t\tNone\n",
      "DT: determiner\n",
      "    all an another any both del each either every half la many much nary\n",
      "    neither no some such that the them these this those\n",
      "the\t\tDT\t\t\tNone\n",
      "NN: noun, common, singular or mass\n",
      "    common-carrier cabbage knuckle-duster Casino afghan shed thermostat\n",
      "    investment slide humour falloff slick wind hyena override subhumanity\n",
      "    machinist ...\n",
      "interaction\t\tNN\t\t\tNone\n",
      "IN: preposition or conjunction, subordinating\n",
      "    astride among uppon whether out inside pro despite on by throughout\n",
      "    below within for towards near behind atop around if like until below\n",
      "    next into if beside ...\n",
      "between\t\tIN\t\t\tNone\n",
      "NNS: noun, common, plural\n",
      "    undergraduates scotches bric-a-brac products bodyguards facets coasts\n",
      "    divestitures storehouses designs clubs fragrances averages\n",
      "    subjectivists apprehensions muses factory-jobs ...\n",
      "computers\t\tNNS\t\t\tNone\n",
      "CC: conjunction, coordinating\n",
      "    & 'n and both but either et for less minus neither nor or plus so\n",
      "    therefore times v. versus vs. whether yet\n",
      "and\t\tCC\t\t\tNone\n"
     ]
    }
   ],
   "source": [
    "# POS tagging on our sample text\n",
    "pos_tags = nltk.pos_tag(words[:20])  # First 20 words for demonstration\n",
    "\n",
    "print(\"Word\\t\\tPOS Tag\\t\\tDescription\")\n",
    "print(\"-\" * 40)\n",
    "for word, tag in pos_tags:\n",
    "    print(f\"{word}\\t\\t{tag}\\t\\t\\t{nltk.help.upenn_tagset(tag)}\")"
   ]
  },
  {
   "cell_type": "markdown",
   "metadata": {},
   "source": [
    "## 5. Sentiment Analysis with VADER\n",
    "\n",
    "VADER (Valence Aware Dictionary and sEntiment Reasoner) is a sentiment analysis tool specifically attuned to sentiments expressed in social media."
   ]
  },
  {
   "cell_type": "code",
   "execution_count": 19,
   "metadata": {},
   "outputs": [
    {
     "name": "stdout",
     "output_type": "stream",
     "text": [
      "Text\t\t\t\t\tCompound Score\tSentiment\n",
      "----------------------------------------------------------------------\n",
      "I love this amazing product! I...\t0.952\t\tPositive\n",
      "This is terrible. I hate it so...\t-0.909\t\tNegative\n",
      "The weather is okay today. Not...\t-0.581\t\tNegative\n",
      "I'm so excited about the new f...\t0.456\t\tPositive\n"
     ]
    }
   ],
   "source": [
    "# Import the SentimentIntensityAnalyzer from nltk.sentiment\n",
    "from nltk.sentiment import SentimentIntensityAnalyzer\n",
    "\n",
    "# Initialize VADER sentiment analyzer\n",
    "sia = SentimentIntensityAnalyzer()\n",
    "\n",
    "# Sample texts for sentiment analysis\n",
    "sample_texts = [\n",
    "    \"I love this amazing product! It's fantastic and works perfectly.\",\n",
    "    \"This is terrible. I hate it so much. Worst purchase ever!\",\n",
    "    \"The weather is okay today. Not great, not bad.\",\n",
    "    \"I'm so excited about the new features! This is revolutionary.\"\n",
    "]\n",
    "\n",
    "print(\"Text\\t\\t\\t\\t\\tCompound Score\\tSentiment\")\n",
    "print(\"-\" * 70)\n",
    "for text in sample_texts:\n",
    "    scores = sia.polarity_scores(text)\n",
    "    compound = scores['compound']\n",
    "    sentiment = \"Positive\" if compound >= 0.05 else \"Negative\" if compound <= -0.05 else \"Neutral\"\n",
    "    print(f\"{text[:30]}...\\t{compound:.3f}\\t\\t{sentiment}\")"
   ]
  },
  {
   "cell_type": "markdown",
   "metadata": {},
   "source": [
    "## 6. Named Entity Recognition (NER)\n",
    "\n",
    "NER identifies named entities like persons, organizations, locations, etc."
   ]
  },
  {
   "cell_type": "code",
   "execution_count": 20,
   "metadata": {},
   "outputs": [
    {
     "name": "stdout",
     "output_type": "stream",
     "text": [
      "Named Entities Found:\n",
      "------------------------------\n",
      "google.com Inc. -> ORGANIZATION\n",
      "Steve Jobs -> PERSON\n",
      "Steve Wozniak -> PERSON\n",
      "Ronald Wayne -> PERSON\n",
      "Cupertino -> GPE\n",
      "California -> GPE\n",
      "Cupertino -> GPE\n"
     ]
    }
   ],
   "source": [
    "# Sample text for NER\n",
    "ner_text = \"\"\"\n",
    "google.com Inc. was founded by Steve Jobs, Steve Wozniak, and Ronald Wayne in Cupertino, California on April 1, 1976.\n",
    "The company is headquartered in Cupertino and designs, develops, and sells consumer electronics.\n",
    "\"\"\"\n",
    "\n",
    "# Tokenize and POS tag\n",
    "tokens = word_tokenize(ner_text)\n",
    "pos_tags = nltk.pos_tag(tokens)\n",
    "\n",
    "# Named Entity Recognition\n",
    "named_entities = nltk.ne_chunk(pos_tags)\n",
    "\n",
    "print(\"Named Entities Found:\")\n",
    "print(\"-\" * 30)\n",
    "for chunk in named_entities:\n",
    "    if hasattr(chunk, 'label'):\n",
    "        entity_name = ' '.join(c[0] for c in chunk)\n",
    "        entity_type = chunk.label()\n",
    "        print(f\"{entity_name} -> {entity_type}\")"
   ]
  },
  {
   "cell_type": "markdown",
   "metadata": {},
   "source": [
    "## 7. Word Frequency Analysis\n",
    "\n",
    "Let's analyze word frequencies in our text."
   ]
  },
  {
   "cell_type": "code",
   "execution_count": 21,
   "metadata": {},
   "outputs": [
    {
     "data": {
      "image/png": "[encoded data removed]",
      "text/plain": [
       "<Figure size 1000x600 with 1 Axes>"
      ]
     },
     "metadata": {},
     "output_type": "display_data"
    },
    {
     "name": "stdout",
     "output_type": "stream",
     "text": [
      "\n",
      "Word Frequency Table:\n",
      "Word\t\tFrequency\n",
      "-------------------------\n",
      "NLP\t\t2\n",
      "language\t\t2\n",
      "Natural\t\t1\n",
      "Language\t\t1\n",
      "Processing\t\t1\n",
      "subfield\t\t1\n",
      "artificial\t\t1\n",
      "intelligence\t\t1\n",
      "focuses\t\t1\n",
      "interaction\t\t1\n"
     ]
    }
   ],
   "source": [
    "from collections import Counter\n",
    "\n",
    "# Calculate word frequencies\n",
    "word_freq = Counter(filtered_words)\n",
    "most_common = word_freq.most_common(10)\n",
    "\n",
    "# Create a bar plot\n",
    "words, frequencies = zip(*most_common)\n",
    "plt.figure(figsize=(10, 6))\n",
    "plt.bar(words, frequencies, color='skyblue')\n",
    "plt.title('Top 10 Most Frequent Words')\n",
    "plt.xlabel('Words')\n",
    "plt.ylabel('Frequency')\n",
    "plt.xticks(rotation=45)\n",
    "plt.tight_layout()\n",
    "plt.show()\n",
    "\n",
    "print(\"\\nWord Frequency Table:\")\n",
    "print(\"Word\\t\\tFrequency\")\n",
    "print(\"-\" * 25)\n",
    "for word, freq in most_common:\n",
    "    print(f\"{word}\\t\\t{freq}\")"
   ]
  },
  {
   "cell_type": "markdown",
   "metadata": {},
   "source": [
    "## 8. Speech Recognition Test\n",
    "\n",
    "Test the speech recognition functionality (requires microphone)."
   ]
  },
  {
   "cell_type": "code",
   "execution_count": 1,
   "metadata": {},
   "outputs": [
    {
     "name": "stdout",
     "output_type": "stream",
     "text": [
      "Import error: No module named 'pyaudio'\n",
      "Please install pyaudio: pip install pyaudio\n",
      "You may need to install PortAudio first: brew install portaudio\n",
      "Please install vosk: pip install vosk\n",
      "Please install the required libraries before continuing.\n"
     ]
    }
   ],
   "source": [
    "import os\n",
    "import sys\n",
    "\n",
    "try:\n",
    "    import pyaudio\n",
    "    from vosk import Model, KaldiRecognizer\n",
    "    print(\"Successfully imported vosk and pyaudio!\")\n",
    "except ImportError as e:\n",
    "    print(f\"Import error: {e}\")\n",
    "    print(\"Please install pyaudio: pip install pyaudio\")\n",
    "    print(\"You may need to install PortAudio first: brew install portaudio\")\n",
    "    print(\"Please install vosk: pip install vosk\")\n",
    "    # Instead of exiting, we'll continue but set a flag\n",
    "    libraries_available = False\n",
    "else:\n",
    "    libraries_available = True\n",
    "\n",
    "MODEL_PATH = \"/Users/ammar/Desktop/NLP_Workshop/models/vosk/vosk-model-en-us-0.22\"\n",
    "if not os.path.exists(MODEL_PATH):\n",
    "    print(\"Please download the Vosk model from https://alphacephei.com/vosk/models\")\n",
    "elif libraries_available:  # Only show \"ready\" message if libraries are available\n",
    "    print(\"Speech recognition model found. Ready to test!\")\n",
    "    print(\"Run 'python test_speech.py' in your terminal to test speech recognition.\")\n",
    "else:\n",
    "    print(\"Please install the required libraries before continuing.\")"
   ]
  },
  {
   "cell_type": "markdown",
   "metadata": {},
   "source": [
    "## 9. Text Vectorization Techniques"
   ]
  },
  {
   "cell_type": "markdown",
   "metadata": {},
   "source": [
    "### Bag of Words with CountVectorizer"
   ]
  },
  {
   "cell_type": "code",
   "execution_count": 10,
   "metadata": {},
   "outputs": [
    {
     "name": "stdout",
     "output_type": "stream",
     "text": [
      "===Bag of words===\n",
      "   and  fun  is  language  learning  love  machine  natural  nlp  processing\n",
      "0    0    0   0         1         0     1        0        1    0           1\n",
      "1    0    1   1         1         0     0        0        0    0           1\n",
      "2    1    0   0         0         1     1        1        0    1           0\n"
     ]
    }
   ],
   "source": [
    "from sklearn.feature_extraction.text import CountVectorizer , TfidfVectorizer\n",
    "import pandas as pd\n",
    "corpus = [\n",
    "    \"I love natural language processing\",\n",
    "    \"Language processing is fun\",\n",
    "    \"I love machine learning and NLP\"\n",
    "]\n",
    "#bag of words\n",
    "cv=CountVectorizer()\n",
    "X_bow = cv.fit_transform(corpus)\n",
    "print(\"===Bag of words===\")\n",
    "print(pd.DataFrame(X_bow.toarray() , columns=cv.get_feature_names_out()))"
   ]
  },
  {
   "cell_type": "code",
   "execution_count": 11,
   "metadata": {},
   "outputs": [
    {
     "name": "stdout",
     "output_type": "stream",
     "text": [
      "=== Bag of words ===\n",
      "   and  fun  is  language  learning  love  machine  natural  nlp  processing\n",
      "0    0    0   0         1         0     1        0        1    0           1\n",
      "1    0    1   1         1         0     0        0        0    0           1\n",
      "2    1    0   0         0         1     1        1        0    1           0\n",
      "\n",
      "=== TF-IDF ===\n",
      "        and       fun        is  language  learning      love   machine  \\\n",
      "0  0.000000  0.000000  0.000000  0.459854  0.000000  0.459854  0.000000   \n",
      "1  0.000000  0.562829  0.562829  0.428046  0.000000  0.000000  0.000000   \n",
      "2  0.467351  0.000000  0.000000  0.000000  0.467351  0.355432  0.467351   \n",
      "\n",
      "    natural       nlp  processing  \n",
      "0  0.604652  0.000000    0.459854  \n",
      "1  0.000000  0.000000    0.428046  \n",
      "2  0.000000  0.467351    0.000000  \n",
      "\n",
      "=== N-grams (Unigrams + Bigrams) ===\n",
      "   and  and nlp  fun  is  is fun  language  language processing  learning  \\\n",
      "0    0        0    0   0       0         1                    1         0   \n",
      "1    0        0    1   1       1         1                    1         0   \n",
      "2    1        1    0   0       0         0                    0         1   \n",
      "\n",
      "   learning and  love  love machine  love natural  machine  machine learning  \\\n",
      "0             0     1             0             1        0                 0   \n",
      "1             0     0             0             0        0                 0   \n",
      "2             1     1             1             0        1                 1   \n",
      "\n",
      "   natural  natural language  nlp  processing  processing is  \n",
      "0        1                 1    0           1              0  \n",
      "1        0                 0    0           1              1  \n",
      "2        0                 0    1           0              0  \n"
     ]
    }
   ],
   "source": [
    "from sklearn.feature_extraction.text import  CountVectorizer,TfidfVectorizer\n",
    "import pandas as pd\n",
    "corpus =[\n",
    "    \"I love natural language processing\",\n",
    "    \"language processing is fun\",\n",
    "    \"i love machine learning and NLP\"\n",
    "]\n",
    "cv = CountVectorizer()\n",
    "X_bow = cv.fit_transform(corpus)\n",
    "print(\"=== Bag of words ===\")\n",
    "print(pd.DataFrame(X_bow.toarray(), columns =cv.get_feature_names_out()))\n",
    "tfidf = TfidfVectorizer()\n",
    "X_tfidf = tfidf.fit_transform(corpus)\n",
    "print(\"\\n=== TF-IDF ===\")\n",
    "print(pd.DataFrame(X_tfidf.toarray(), columns=tfidf.get_feature_names_out()))\n",
    "cv_ngram = CountVectorizer(ngram_range=(1,2))\n",
    "X_ngram = cv_ngram.fit_transform(corpus)\n",
    "print(\"\\n=== N-grams (Unigrams + Bigrams) ===\")\n",
    "print(pd.DataFrame(X_ngram.toarray(), columns=cv_ngram.get_feature_names_out()))\n",
    "from sklearn import datasets\n",
    "from sklearn.model_selection import train_test_split\n",
    "\n",
    "# Load the Iris dataset\n",
    "iris = datasets.load_iris()\n",
    "X = iris.data\n",
    "y = iris.target\n",
    "\n",
    "# Split the data into training and testing sets\n",
    "X_train, X_test, y_train, y_test = train_test_split(X, y, test_size=0.2,\n",
    "                                                    random_state=42)\n",
    "from sklearn.pipeline import Pipeline\n",
    "from sklearn.preprocessing import StandardScaler\n",
    "from sklearn.decomposition import PCA\n",
    "from sklearn.linear_model import LogisticRegression\n",
    "\n",
    "pipeline = Pipeline([\n",
    "    ('scaler', StandardScaler()),\n",
    "    ('classifier', LogisticRegression())\n",
    "])"
   ]
  },
  {
   "cell_type": "code",
   "execution_count": 11,
   "metadata": {},
   "outputs": [
    {
     "name": "stdout",
     "output_type": "stream",
     "text": [
      "Bag of Words Representation:\n"
     ]
    },
    {
     "data": {
      "text/html": [
       "<div>\n",
       "<style scoped>\n",
       "    .dataframe tbody tr th:only-of-type {\n",
       "        vertical-align: middle;\n",
       "    }\n",
       "\n",
       "    .dataframe tbody tr th {\n",
       "        vertical-align: top;\n",
       "    }\n",
       "\n",
       "    .dataframe thead th {\n",
       "        text-align: right;\n",
       "    }\n",
       "</style>\n",
       "<table border=\"1\" class=\"dataframe\">\n",
       "  <thead>\n",
       "    <tr style=\"text-align: right;\">\n",
       "      <th></th>\n",
       "      <th>and</th>\n",
       "      <th>are</th>\n",
       "      <th>computers</th>\n",
       "      <th>fields</th>\n",
       "      <th>fun</th>\n",
       "      <th>helps</th>\n",
       "      <th>involves</th>\n",
       "      <th>is</th>\n",
       "      <th>language</th>\n",
       "      <th>learn</th>\n",
       "      <th>learning</th>\n",
       "      <th>machine</th>\n",
       "      <th>ml</th>\n",
       "      <th>natural</th>\n",
       "      <th>nlp</th>\n",
       "      <th>processing</th>\n",
       "      <th>related</th>\n",
       "      <th>text</th>\n",
       "      <th>tokenization</th>\n",
       "    </tr>\n",
       "  </thead>\n",
       "  <tbody>\n",
       "    <tr>\n",
       "      <th>0</th>\n",
       "      <td>0</td>\n",
       "      <td>0</td>\n",
       "      <td>0</td>\n",
       "      <td>0</td>\n",
       "      <td>1</td>\n",
       "      <td>0</td>\n",
       "      <td>0</td>\n",
       "      <td>1</td>\n",
       "      <td>1</td>\n",
       "      <td>0</td>\n",
       "      <td>0</td>\n",
       "      <td>0</td>\n",
       "      <td>0</td>\n",
       "      <td>1</td>\n",
       "      <td>0</td>\n",
       "      <td>1</td>\n",
       "      <td>0</td>\n",
       "      <td>0</td>\n",
       "      <td>0</td>\n",
       "    </tr>\n",
       "    <tr>\n",
       "      <th>1</th>\n",
       "      <td>0</td>\n",
       "      <td>0</td>\n",
       "      <td>1</td>\n",
       "      <td>0</td>\n",
       "      <td>0</td>\n",
       "      <td>1</td>\n",
       "      <td>0</td>\n",
       "      <td>0</td>\n",
       "      <td>0</td>\n",
       "      <td>1</td>\n",
       "      <td>1</td>\n",
       "      <td>1</td>\n",
       "      <td>0</td>\n",
       "      <td>0</td>\n",
       "      <td>0</td>\n",
       "      <td>0</td>\n",
       "      <td>0</td>\n",
       "      <td>0</td>\n",
       "      <td>0</td>\n",
       "    </tr>\n",
       "    <tr>\n",
       "      <th>2</th>\n",
       "      <td>1</td>\n",
       "      <td>1</td>\n",
       "      <td>0</td>\n",
       "      <td>1</td>\n",
       "      <td>0</td>\n",
       "      <td>0</td>\n",
       "      <td>0</td>\n",
       "      <td>0</td>\n",
       "      <td>0</td>\n",
       "      <td>0</td>\n",
       "      <td>0</td>\n",
       "      <td>0</td>\n",
       "      <td>1</td>\n",
       "      <td>0</td>\n",
       "      <td>1</td>\n",
       "      <td>0</td>\n",
       "      <td>1</td>\n",
       "      <td>0</td>\n",
       "      <td>0</td>\n",
       "    </tr>\n",
       "    <tr>\n",
       "      <th>3</th>\n",
       "      <td>0</td>\n",
       "      <td>0</td>\n",
       "      <td>0</td>\n",
       "      <td>0</td>\n",
       "      <td>0</td>\n",
       "      <td>0</td>\n",
       "      <td>1</td>\n",
       "      <td>0</td>\n",
       "      <td>0</td>\n",
       "      <td>0</td>\n",
       "      <td>0</td>\n",
       "      <td>0</td>\n",
       "      <td>0</td>\n",
       "      <td>0</td>\n",
       "      <td>0</td>\n",
       "      <td>1</td>\n",
       "      <td>0</td>\n",
       "      <td>1</td>\n",
       "      <td>1</td>\n",
       "    </tr>\n",
       "  </tbody>\n",
       "</table>\n",
       "</div>"
      ],
      "text/plain": [
       "   and  are  computers  fields  fun  helps  involves  is  language  learn  \\\n",
       "0    0    0          0       0    1      0         0   1         1      0   \n",
       "1    0    0          1       0    0      1         0   0         0      1   \n",
       "2    1    1          0       1    0      0         0   0         0      0   \n",
       "3    0    0          0       0    0      0         1   0         0      0   \n",
       "\n",
       "   learning  machine  ml  natural  nlp  processing  related  text  \\\n",
       "0         0        0   0        1    0           1        0     0   \n",
       "1         1        1   0        0    0           0        0     0   \n",
       "2         0        0   1        0    1           0        1     0   \n",
       "3         0        0   0        0    0           1        0     1   \n",
       "\n",
       "   tokenization  \n",
       "0             0  \n",
       "1             0  \n",
       "2             0  \n",
       "3             1  "
      ]
     },
     "execution_count": 11,
     "metadata": {},
     "output_type": "execute_result"
    }
   ],
   "source": [
    "from sklearn.feature_extraction.text import CountVectorizer\n",
    "import pandas as pd\n",
    "\n",
    "# Sample documents\n",
    "documents = [\n",
    "    \"Natural language processing is fun\",\n",
    "    \"Machine learning helps computers learn\",\n",
    "    \"NLP and ML are related fields\",\n",
    "    \"Text processing involves tokenization\"\n",
    "]\n",
    "\n",
    "# Create CountVectorizer for Bag of Words\n",
    "vectorizer = CountVectorizer()\n",
    "# Fit and transform\n",
    "X = vectorizer.fit_transform(documents)\n",
    "# Get feature names\n",
    "feature_names = vectorizer.get_feature_names_out()\n",
    "# Convert to DataFrame\n",
    "df_bow = pd.DataFrame(X.toarray(), columns=feature_names)\n",
    "print(\"Bag of Words Representation:\")\n",
    "df_bow"
   ]
  },
  {
   "cell_type": "markdown",
   "metadata": {},
   "source": [
    "### TF-IDF Vectorization"
   ]
  },
  {
   "cell_type": "code",
   "execution_count": 12,
   "metadata": {},
   "outputs": [
    {
     "name": "stdout",
     "output_type": "stream",
     "text": [
      "TF-IDF Representation:\n"
     ]
    },
    {
     "data": {
      "text/html": [
       "<div>\n",
       "<style scoped>\n",
       "    .dataframe tbody tr th:only-of-type {\n",
       "        vertical-align: middle;\n",
       "    }\n",
       "\n",
       "    .dataframe tbody tr th {\n",
       "        vertical-align: top;\n",
       "    }\n",
       "\n",
       "    .dataframe thead th {\n",
       "        text-align: right;\n",
       "    }\n",
       "</style>\n",
       "<table border=\"1\" class=\"dataframe\">\n",
       "  <thead>\n",
       "    <tr style=\"text-align: right;\">\n",
       "      <th></th>\n",
       "      <th>and</th>\n",
       "      <th>are</th>\n",
       "      <th>computers</th>\n",
       "      <th>fields</th>\n",
       "      <th>fun</th>\n",
       "      <th>helps</th>\n",
       "      <th>involves</th>\n",
       "      <th>is</th>\n",
       "      <th>language</th>\n",
       "      <th>learn</th>\n",
       "      <th>learning</th>\n",
       "      <th>machine</th>\n",
       "      <th>ml</th>\n",
       "      <th>natural</th>\n",
       "      <th>nlp</th>\n",
       "      <th>processing</th>\n",
       "      <th>related</th>\n",
       "      <th>text</th>\n",
       "      <th>tokenization</th>\n",
       "    </tr>\n",
       "  </thead>\n",
       "  <tbody>\n",
       "    <tr>\n",
       "      <th>0</th>\n",
       "      <td>0.000000</td>\n",
       "      <td>0.000000</td>\n",
       "      <td>0.000000</td>\n",
       "      <td>0.000000</td>\n",
       "      <td>0.465162</td>\n",
       "      <td>0.000000</td>\n",
       "      <td>0.000000</td>\n",
       "      <td>0.465162</td>\n",
       "      <td>0.465162</td>\n",
       "      <td>0.000000</td>\n",
       "      <td>0.000000</td>\n",
       "      <td>0.000000</td>\n",
       "      <td>0.000000</td>\n",
       "      <td>0.465162</td>\n",
       "      <td>0.000000</td>\n",
       "      <td>0.366739</td>\n",
       "      <td>0.000000</td>\n",
       "      <td>0.000000</td>\n",
       "      <td>0.000000</td>\n",
       "    </tr>\n",
       "    <tr>\n",
       "      <th>1</th>\n",
       "      <td>0.000000</td>\n",
       "      <td>0.000000</td>\n",
       "      <td>0.447214</td>\n",
       "      <td>0.000000</td>\n",
       "      <td>0.000000</td>\n",
       "      <td>0.447214</td>\n",
       "      <td>0.000000</td>\n",
       "      <td>0.000000</td>\n",
       "      <td>0.000000</td>\n",
       "      <td>0.447214</td>\n",
       "      <td>0.447214</td>\n",
       "      <td>0.447214</td>\n",
       "      <td>0.000000</td>\n",
       "      <td>0.000000</td>\n",
       "      <td>0.000000</td>\n",
       "      <td>0.000000</td>\n",
       "      <td>0.000000</td>\n",
       "      <td>0.000000</td>\n",
       "      <td>0.000000</td>\n",
       "    </tr>\n",
       "    <tr>\n",
       "      <th>2</th>\n",
       "      <td>0.408248</td>\n",
       "      <td>0.408248</td>\n",
       "      <td>0.000000</td>\n",
       "      <td>0.408248</td>\n",
       "      <td>0.000000</td>\n",
       "      <td>0.000000</td>\n",
       "      <td>0.000000</td>\n",
       "      <td>0.000000</td>\n",
       "      <td>0.000000</td>\n",
       "      <td>0.000000</td>\n",
       "      <td>0.000000</td>\n",
       "      <td>0.000000</td>\n",
       "      <td>0.408248</td>\n",
       "      <td>0.000000</td>\n",
       "      <td>0.408248</td>\n",
       "      <td>0.000000</td>\n",
       "      <td>0.408248</td>\n",
       "      <td>0.000000</td>\n",
       "      <td>0.000000</td>\n",
       "    </tr>\n",
       "    <tr>\n",
       "      <th>3</th>\n",
       "      <td>0.000000</td>\n",
       "      <td>0.000000</td>\n",
       "      <td>0.000000</td>\n",
       "      <td>0.000000</td>\n",
       "      <td>0.000000</td>\n",
       "      <td>0.000000</td>\n",
       "      <td>0.525473</td>\n",
       "      <td>0.000000</td>\n",
       "      <td>0.000000</td>\n",
       "      <td>0.000000</td>\n",
       "      <td>0.000000</td>\n",
       "      <td>0.000000</td>\n",
       "      <td>0.000000</td>\n",
       "      <td>0.000000</td>\n",
       "      <td>0.000000</td>\n",
       "      <td>0.414289</td>\n",
       "      <td>0.000000</td>\n",
       "      <td>0.525473</td>\n",
       "      <td>0.525473</td>\n",
       "    </tr>\n",
       "  </tbody>\n",
       "</table>\n",
       "</div>"
      ],
      "text/plain": [
       "        and       are  computers    fields       fun     helps  involves  \\\n",
       "0  0.000000  0.000000   0.000000  0.000000  0.465162  0.000000  0.000000   \n",
       "1  0.000000  0.000000   0.447214  0.000000  0.000000  0.447214  0.000000   \n",
       "2  0.408248  0.408248   0.000000  0.408248  0.000000  0.000000  0.000000   \n",
       "3  0.000000  0.000000   0.000000  0.000000  0.000000  0.000000  0.525473   \n",
       "\n",
       "         is  language     learn  learning   machine        ml   natural  \\\n",
       "0  0.465162  0.465162  0.000000  0.000000  0.000000  0.000000  0.465162   \n",
       "1  0.000000  0.000000  0.447214  0.447214  0.447214  0.000000  0.000000   \n",
       "2  0.000000  0.000000  0.000000  0.000000  0.000000  0.408248  0.000000   \n",
       "3  0.000000  0.000000  0.000000  0.000000  0.000000  0.000000  0.000000   \n",
       "\n",
       "        nlp  processing   related      text  tokenization  \n",
       "0  0.000000    0.366739  0.000000  0.000000      0.000000  \n",
       "1  0.000000    0.000000  0.000000  0.000000      0.000000  \n",
       "2  0.408248    0.000000  0.408248  0.000000      0.000000  \n",
       "3  0.000000    0.414289  0.000000  0.525473      0.525473  "
      ]
     },
     "execution_count": 12,
     "metadata": {},
     "output_type": "execute_result"
    }
   ],
   "source": [
    "from sklearn.feature_extraction.text import TfidfVectorizer\n",
    "\n",
    "# Create TfidfVectorizer\n",
    "tfidf_vectorizer = TfidfVectorizer()\n",
    "# Fit and transform\n",
    "X_tfidf = tfidf_vectorizer.fit_transform(documents)\n",
    "# Get feature names\n",
    "tfidf_feature_names = tfidf_vectorizer.get_feature_names_out()\n",
    "# Convert to DataFrame\n",
    "df_tfidf = pd.DataFrame(X_tfidf.toarray(), columns=tfidf_feature_names)\n",
    "print(\"TF-IDF Representation:\")\n",
    "df_tfidf"
   ]
  },
  {
   "cell_type": "markdown",
   "metadata": {},
   "source": [
    "### Count Vectorizer"
   ]
  },
  {
   "cell_type": "code",
   "execution_count": 13,
   "metadata": {},
   "outputs": [
    {
     "name": "stdout",
     "output_type": "stream",
     "text": [
      "Count Vectorizer Representation:\n"
     ]
    },
    {
     "data": {
      "text/html": [
       "<div>\n",
       "<style scoped>\n",
       "    .dataframe tbody tr th:only-of-type {\n",
       "        vertical-align: middle;\n",
       "    }\n",
       "\n",
       "    .dataframe tbody tr th {\n",
       "        vertical-align: top;\n",
       "    }\n",
       "\n",
       "    .dataframe thead th {\n",
       "        text-align: right;\n",
       "    }\n",
       "</style>\n",
       "<table border=\"1\" class=\"dataframe\">\n",
       "  <thead>\n",
       "    <tr style=\"text-align: right;\">\n",
       "      <th></th>\n",
       "      <th>and</th>\n",
       "      <th>are</th>\n",
       "      <th>computers</th>\n",
       "      <th>fields</th>\n",
       "      <th>fun</th>\n",
       "      <th>helps</th>\n",
       "      <th>involves</th>\n",
       "      <th>is</th>\n",
       "      <th>language</th>\n",
       "      <th>learn</th>\n",
       "      <th>learning</th>\n",
       "      <th>machine</th>\n",
       "      <th>ml</th>\n",
       "      <th>natural</th>\n",
       "      <th>nlp</th>\n",
       "      <th>processing</th>\n",
       "      <th>related</th>\n",
       "      <th>text</th>\n",
       "      <th>tokenization</th>\n",
       "    </tr>\n",
       "  </thead>\n",
       "  <tbody>\n",
       "    <tr>\n",
       "      <th>0</th>\n",
       "      <td>0</td>\n",
       "      <td>0</td>\n",
       "      <td>0</td>\n",
       "      <td>0</td>\n",
       "      <td>1</td>\n",
       "      <td>0</td>\n",
       "      <td>0</td>\n",
       "      <td>1</td>\n",
       "      <td>1</td>\n",
       "      <td>0</td>\n",
       "      <td>0</td>\n",
       "      <td>0</td>\n",
       "      <td>0</td>\n",
       "      <td>1</td>\n",
       "      <td>0</td>\n",
       "      <td>1</td>\n",
       "      <td>0</td>\n",
       "      <td>0</td>\n",
       "      <td>0</td>\n",
       "    </tr>\n",
       "    <tr>\n",
       "      <th>1</th>\n",
       "      <td>0</td>\n",
       "      <td>0</td>\n",
       "      <td>1</td>\n",
       "      <td>0</td>\n",
       "      <td>0</td>\n",
       "      <td>1</td>\n",
       "      <td>0</td>\n",
       "      <td>0</td>\n",
       "      <td>0</td>\n",
       "      <td>1</td>\n",
       "      <td>1</td>\n",
       "      <td>1</td>\n",
       "      <td>0</td>\n",
       "      <td>0</td>\n",
       "      <td>0</td>\n",
       "      <td>0</td>\n",
       "      <td>0</td>\n",
       "      <td>0</td>\n",
       "      <td>0</td>\n",
       "    </tr>\n",
       "    <tr>\n",
       "      <th>2</th>\n",
       "      <td>1</td>\n",
       "      <td>1</td>\n",
       "      <td>0</td>\n",
       "      <td>1</td>\n",
       "      <td>0</td>\n",
       "      <td>0</td>\n",
       "      <td>0</td>\n",
       "      <td>0</td>\n",
       "      <td>0</td>\n",
       "      <td>0</td>\n",
       "      <td>0</td>\n",
       "      <td>0</td>\n",
       "      <td>1</td>\n",
       "      <td>0</td>\n",
       "      <td>1</td>\n",
       "      <td>0</td>\n",
       "      <td>1</td>\n",
       "      <td>0</td>\n",
       "      <td>0</td>\n",
       "    </tr>\n",
       "    <tr>\n",
       "      <th>3</th>\n",
       "      <td>0</td>\n",
       "      <td>0</td>\n",
       "      <td>0</td>\n",
       "      <td>0</td>\n",
       "      <td>0</td>\n",
       "      <td>0</td>\n",
       "      <td>1</td>\n",
       "      <td>0</td>\n",
       "      <td>0</td>\n",
       "      <td>0</td>\n",
       "      <td>0</td>\n",
       "      <td>0</td>\n",
       "      <td>0</td>\n",
       "      <td>0</td>\n",
       "      <td>0</td>\n",
       "      <td>1</td>\n",
       "      <td>0</td>\n",
       "      <td>1</td>\n",
       "      <td>1</td>\n",
       "    </tr>\n",
       "  </tbody>\n",
       "</table>\n",
       "</div>"
      ],
      "text/plain": [
       "   and  are  computers  fields  fun  helps  involves  is  language  learn  \\\n",
       "0    0    0          0       0    1      0         0   1         1      0   \n",
       "1    0    0          1       0    0      1         0   0         0      1   \n",
       "2    1    1          0       1    0      0         0   0         0      0   \n",
       "3    0    0          0       0    0      0         1   0         0      0   \n",
       "\n",
       "   learning  machine  ml  natural  nlp  processing  related  text  \\\n",
       "0         0        0   0        1    0           1        0     0   \n",
       "1         1        1   0        0    0           0        0     0   \n",
       "2         0        0   1        0    1           0        1     0   \n",
       "3         0        0   0        0    0           1        0     1   \n",
       "\n",
       "   tokenization  \n",
       "0             0  \n",
       "1             0  \n",
       "2             0  \n",
       "3             1  "
      ]
     },
     "execution_count": 13,
     "metadata": {},
     "output_type": "execute_result"
    }
   ],
   "source": [
    "# Count Vectorizer is the same as Bag of Words\n",
    "count_vectorizer = CountVectorizer()\n",
    "X_count = count_vectorizer.fit_transform(documents)\n",
    "count_feature_names = count_vectorizer.get_feature_names_out()\n",
    "df_count = pd.DataFrame(X_count.toarray(), columns=count_feature_names)\n",
    "print(\"Count Vectorizer Representation:\")\n",
    "df_count"
   ]
  },
  {
   "cell_type": "markdown",
   "metadata": {},
   "source": [
    "## 10. Text Classification with Multinomial Naive Bayes"
   ]
  },
  {
   "cell_type": "code",
   "execution_count": 3,
   "metadata": {},
   "outputs": [
    {
     "name": "stderr",
     "output_type": "stream",
     "text": [
      "[nltk_data] Downloading package movie_reviews to\n",
      "[nltk_data]     /Users/ammar/nltk_data...\n",
      "[nltk_data]   Package movie_reviews is already up-to-date!\n"
     ]
    },
    {
     "name": "stdout",
     "output_type": "stream",
     "text": [
      "Model Accuracy on Test Set: 0.83\n"
     ]
    }
   ],
   "source": [
    "from sklearn.model_selection import train_test_split\n",
    "from sklearn.naive_bayes import MultinomialNB\n",
    "from sklearn.metrics import accuracy_score\n",
    "from sklearn.feature_extraction.text import CountVectorizer\n",
    "\n",
    "import nltk\n",
    "nltk.download('movie_reviews')\n",
    "from nltk.corpus import movie_reviews\n",
    "import random\n",
    "import string\n",
    "from nltk.corpus import stopwords\n",
    "\n",
    "# Get movie reviews data\n",
    "documents = [(list(movie_reviews.words(fileid)), category)\n",
    "             for category in movie_reviews.categories()\n",
    "             for fileid in movie_reviews.fileids(category)]\n",
    "\n",
    "random.shuffle(documents)\n",
    "\n",
    "# Extract texts and labels\n",
    "texts = [' '.join(words) for words, category in documents]\n",
    "labels = [1 if category == 'pos' else 0 for words, category in documents]\n",
    "\n",
    "# Preprocessing: case fold to lowercase\n",
    "texts = [text.lower() for text in texts]\n",
    "\n",
    "# Remove punctuation marks\n",
    "texts = [''.join(c for c in text if c not in string.punctuation) for text in texts]\n",
    "\n",
    "# Remove stop words\n",
    "stop_words = set(stopwords.words('english'))\n",
    "texts = [' '.join(word for word in text.split() if word not in stop_words) for text in texts]\n",
    "\n",
    "# Vectorize\n",
    "vectorizer = CountVectorizer()\n",
    "X = vectorizer.fit_transform(texts)\n",
    "y = labels\n",
    "\n",
    "# Split data: 80% train, 20% test\n",
    "X_train, X_test, y_train, y_test = train_test_split(X, y, test_size=0.2, random_state=42)\n",
    "\n",
    "# Train Multinomial Naive Bayes model\n",
    "model = MultinomialNB()\n",
    "model.fit(X_train, y_train)\n",
    "\n",
    "# Predict on test set\n",
    "y_pred = model.predict(X_test)\n",
    "\n",
    "# Calculate accuracy\n",
    "accuracy = accuracy_score(y_test, y_pred)\n",
    "print(f\"Model Accuracy on Test Set: {accuracy:.2f}\")\n"
   ]
  },
  {
   "cell_type": "code",
   "execution_count": null,
   "metadata": {},
   "outputs": [
    {
     "name": "stdout",
     "output_type": "stream",
     "text": [
      "Enter a sentence (or type 'exit' to quit):  im not happy\n",
      "Prediction for: 'im not happy' → Negative\n",
      "Enter a sentence (or type 'exit' to quit):  im happy\n",
      "Prediction for: 'im happy' → Negative\n",
      "Enter a sentence (or type 'exit' to quit):  happy\n",
      "Prediction for: 'happy' → Positive\n",
      "Enter a sentence (or type 'exit' to quit):  im very happy\n",
      "Prediction for: 'im very happy' → Negative\n",
      "Enter a sentence (or type 'exit' to quit):  bored\n",
      "Prediction for: 'bored' → Negative\n",
      "Enter a sentence (or type 'exit' to quit):  excited\n",
      "Prediction for: 'excited' → Positive\n",
      "Enter a sentence (or type 'exit' to quit):  angry\n",
      "Prediction for: 'angry' → Positive\n"
     ]
    },
    {
     "name": "stdout",
     "output_type": "stream",
     "text": [
      "Prediction for: 'im not happy' → Negative\n"
     ]
    },
    {
     "name": "stdout",
     "output_type": "stream",
     "text": [
      "Enter a sentence (or type 'exit' to quit):  im happy\n"
     ]
    },
    {
     "name": "stdout",
     "output_type": "stream",
     "text": [
      "Prediction for: 'im happy' → Negative\n"
     ]
    },
    {
     "name": "stdout",
     "output_type": "stream",
     "text": [
      "Enter a sentence (or type 'exit' to quit):  happy\n"
     ]
    },
    {
     "name": "stdout",
     "output_type": "stream",
     "text": [
      "Prediction for: 'happy' → Positive\n"
     ]
    },
    {
     "name": "stdout",
     "output_type": "stream",
     "text": [
      "Enter a sentence (or type 'exit' to quit):  im very happy\n"
     ]
    },
    {
     "name": "stdout",
     "output_type": "stream",
     "text": [
      "Prediction for: 'im very happy' → Negative\n"
     ]
    },
    {
     "name": "stdout",
     "output_type": "stream",
     "text": [
      "Enter a sentence (or type 'exit' to quit):  bored\n"
     ]
    },
    {
     "name": "stdout",
     "output_type": "stream",
     "text": [
      "Prediction for: 'bored' → Negative\n"
     ]
    },
    {
     "name": "stdout",
     "output_type": "stream",
     "text": [
      "Enter a sentence (or type 'exit' to quit):  excited\n"
     ]
    },
    {
     "name": "stdout",
     "output_type": "stream",
     "text": [
      "Prediction for: 'excited' → Positive\n"
     ]
    },
    {
     "name": "stdout",
     "output_type": "stream",
     "text": [
      "Enter a sentence (or type 'exit' to quit):  angry\n"
     ]
    },
    {
     "name": "stdout",
     "output_type": "stream",
     "text": [
      "Prediction for: 'angry' → Positive\n"
     ]
    }
   ],
   "source": [
    "def preprocess_text(text):\n",
    "    # Basic preprocessing: lowercase strip extra spaces\n",
    "    return text.strip().lower()\n",
    "\n",
    "def predict_sentiment(sentence, vectorizer, model):\n",
    "    sentence_processed = preprocess_text(sentence)\n",
    "    sentence_vectorized = vectorizer.transform([sentence_processed])\n",
    "    prediction = model.predict(sentence_vectorized)\n",
    "    return \"Positive\" if prediction[0] == 1 else \"Negative\"\n",
    "\n",
    "# Assuming vectorizer and model are already loaded correctly\n",
    "\n",
    "while True:\n",
    "    user_sentence = input(\"Enter a sentence (or type 'exit' to quit): \")\n",
    "    if user_sentence.lower() == 'exit':\n",
    "        print(\"Exiting...\")\n",
    "        break\n",
    "    sentiment = predict_sentiment(user_sentence, vectorizer, model)\n",
    "    print(f\"Prediction for: '{user_sentence}' → {sentiment}\")\n"
   ]
  },
  {
   "cell_type": "code",
   "execution_count": 2,
   "metadata": {},
   "outputs": [
    {
     "name": "stdout",
     "output_type": "stream",
     "text": [
      "Prediction for: 'im not happy' → Negative\n",
      "Prediction for: 'im happy' → Positive\n",
      "Prediction for: 'happy' → Positive\n",
      "Prediction for: 'im very happy' → Positive\n",
      "Prediction for: 'bored' → Negative\n",
      "Prediction for: 'excited' → Negative\n",
      "Prediction for: 'angry' → Negative\n"
     ]
    }
   ],
   "source": [
    "from sklearn.feature_extraction.text import CountVectorizer\n",
    "from sklearn.linear_model import LogisticRegression\n",
    "import re\n",
    "\n",
    "def preprocess_text(text):\n",
    "    text = text.lower().strip()\n",
    "    # Simple negation handling: join 'not' with next word using underscore\n",
    "    text = re.sub(r'\\bnot (\\w+)', r'not_\\1', text)\n",
    "    return text\n",
    "\n",
    "# Augmented training data for better handling of negation and important words\n",
    "texts = [\n",
    "    \"i am happy\", \"i am not happy\", \"happy\", \"very happy\",\n",
    "    \"i am sad\", \"i am very sad\", \"angry\", \"excited\", \"bored\",\n",
    "    \"not happy\", \"not excited\", \"not angry\", \"not bored\",\n",
    "    \"im happy\", \"im not happy\", \"im very happy\", \"im sad\"\n",
    "]\n",
    "labels = [1, 0, 1, 1, 0, 0, 0, 1, 0, 0, 0, 0, 0, 1, 0, 1, 0]  # 1=Positive, 0=Negative\n",
    "\n",
    "vectorizer = CountVectorizer()\n",
    "X = vectorizer.fit_transform([preprocess_text(t) for t in texts])\n",
    "\n",
    "model = LogisticRegression(max_iter=200)\n",
    "model.fit(X, labels)\n",
    "\n",
    "def predict_sentiment(sentence, vectorizer, model):\n",
    "    sentence_processed = preprocess_text(sentence)\n",
    "    sentence_vectorized = vectorizer.transform([sentence_processed])\n",
    "    prediction = model.predict(sentence_vectorized)\n",
    "    return \"Positive\" if prediction[0] == 1 else \"Negative\"\n",
    "\n",
    "# Test\n",
    "test_inputs = [\"im not happy\", \"im happy\", \"happy\", \"im very happy\", \"bored\", \"excited\", \"angry\"]\n",
    "for sentence in test_inputs:\n",
    "    print(f\"Prediction for: '{sentence}' → {predict_sentiment(sentence, vectorizer, model)}\")\n"
   ]
  },
  {
   "cell_type": "markdown",
   "metadata": {},
   "source": [
    "## Workshop Exercises\n",
    "\n",
    "1. **Text Analysis**: Analyze a news article or book excerpt\n",
    "2. **Sentiment Analysis**: Build a sentiment analyzer for product reviews\n",
    "3. **Chatbot Development**: Create a simple rule-based chatbot\n",
    "4. **Language Detection**: Implement basic language detection\n",
    "5. **Text Summarization**: Create an extractive summarization tool\n",
    "\n",
    "## Next Steps\n",
    "- Explore more advanced NLP topics like topic modeling, text classification\n",
    "- Try different datasets from NLTK corpora\n",
    "- Experiment with machine learning models for NLP tasks\n",
    "\n",
    "Happy learning! 🚀"
   ]
  },
  {
   "cell_type": "code",
   "execution_count": null,
   "metadata": {},
   "outputs": [],
   "source": []
  }
 ],
 "metadata": {
  "kernelspec": {
   "display_name": "Python [conda env:anaconda3] *",
   "language": "python",
   "name": "conda-env-anaconda3-py"
  },
  "language_info": {
   "codemirror_mode": {
    "name": "ipython",
    "version": 3
   },
   "file_extension": ".py",
   "mimetype": "text/x-python",
   "name": "python",
   "nbconvert_exporter": "python",
   "pygments_lexer": "ipython3",
   "version": "3.13.5"
  },
  "panel-cell-order": [
   "a645c465",
   "5fa69cff",
   "1278d762",
   "b0d5e6d9",
   "8d59ac7c",
   "9e89d736",
   "0a36dfff",
   "853011e9",
   "9bf0f640",
   "d2286ebc",
   "4e9a8e5b",
   "fa3a6c6d",
   "6e406afe",
   "361b7eff",
   "9f0169d6",
   "f56a9963",
   "bcd8f8ae",
   "db1f7d0a",
   "49cd2dc5",
   "8f439a06",
   "5268994a",
   "9192ac28",
   "5bef32f4",
   "be20de67"
  ]
 },
 "nbformat": 4,
 "nbformat_minor": 4
}
